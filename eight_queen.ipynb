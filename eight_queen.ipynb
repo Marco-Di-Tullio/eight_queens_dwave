{
 "cells": [
  {
   "cell_type": "code",
   "execution_count": 199,
   "metadata": {
    "collapsed": true
   },
   "outputs": [],
   "source": [
    "\n",
    "\n",
    "import numpy as np\n",
    "from pyqubo import Array, Placeholder, solve_qubo, Constraint\n",
    "\n",
    "\n",
    "N = 8\n",
    "\n",
    "variables = Array.create('q', N*N, 'BINARY')\n",
    "\n",
    "mat = np.reshape(variables,(N,N))"
   ]
  },
  {
   "cell_type": "code",
   "execution_count": 200,
   "outputs": [],
   "source": [
    "column_constraint = 0\n",
    "for row in range(N):\n",
    "   column_constraint +=  (sum(v for v in mat[row, :]) - 1) ** 2\n",
    "\n",
    "row_constraint = 0\n",
    "for col in range(N):\n",
    "   row_constraint +=  (sum(v for v in mat[:, col]) - 1) ** 2\n",
    "\n",
    "diag_constraint = 0\n",
    "\n",
    "for row in range(N):\n",
    "    diag_constraint += sum (v for v in np.diag(mat, k=row))  * (sum(v for v in np.diag(mat, k=row)) - 1)\n",
    "    if row != 0:\n",
    "        diag_constraint += sum (v for v in np.diag(mat, k=-row))  * (sum (v for v in np.diag(mat, k=-row)) - 1)\n",
    "    diag_constraint += sum (v for v in np.diag(np.fliplr(mat), k=row)) * ( sum (v for v in np.diag(np.fliplr(mat), k=row))  - 1)\n",
    "    if row != 0:\n",
    "        diag_constraint += sum (v for v in np.diag(np.fliplr(mat), k=-row)) * (sum (v for v in np.diag(np.fliplr(mat), k=-row)) - 1)\n",
    "\n",
    "n_constraint = (sum(v for v in variables) - N) ** 2\n",
    "\n",
    "\n",
    "alpha = Placeholder(\"alpha\")\n",
    "beta = Placeholder(\"beta\")\n",
    "gamma = Placeholder(\"gamma\")\n",
    "delta = Placeholder(\"delta\")\n",
    "eta = Placeholder(\"eta\")\n",
    "feed_dict = {'alpha': 3.0, 'beta': 3.0, 'gamma': 6.0, 'delta' : 5.0, 'eta': 1.0}\n"
   ],
   "metadata": {
    "collapsed": false,
    "pycharm": {
     "name": "#%%\n"
    }
   }
  },
  {
   "cell_type": "code",
   "execution_count": 201,
   "outputs": [],
   "source": [
    "H = alpha * Constraint(column_constraint, 'column') + beta * Constraint(row_constraint, 'row')  + gamma * Constraint(diag_constraint, 'diag') + delta * Constraint(n_constraint, 'n')\n",
    "\n",
    "model = H.compile()\n",
    "qubo, offset = model.to_qubo(feed_dict=feed_dict)\n",
    "\n",
    "\n"
   ],
   "metadata": {
    "collapsed": false,
    "pycharm": {
     "name": "#%%\n"
    }
   }
  },
  {
   "cell_type": "code",
   "execution_count": 202,
   "outputs": [],
   "source": [
    "solution = solve_qubo(qubo)\n",
    "decoded_solution, broken, energy = model.decode_solution(solution, vartype=\"BINARY\", feed_dict=feed_dict)"
   ],
   "metadata": {
    "collapsed": false,
    "pycharm": {
     "name": "#%%\n"
    }
   }
  },
  {
   "cell_type": "code",
   "execution_count": 203,
   "outputs": [
    {
     "data": {
      "text/plain": "<Figure size 288x288 with 1 Axes>",
      "image/png": "[encoded data removed]"
     },
     "metadata": {
      "needs_background": "light"
     },
     "output_type": "display_data"
    }
   ],
   "source": [
    "import matplotlib.pyplot as plt\n",
    "image = np.zeros(N*N)\n",
    "\n",
    "for row in range(N):\n",
    "    for col in range(N):\n",
    "        image[row *N + col] = decoded_solution['q'][row * N + col]\n",
    "image = image.reshape((N, N))\n",
    "\n",
    "plt.matshow(image)\n",
    "plt.xticks(range(N))\n",
    "plt.yticks(range(N))\n",
    "plt.show()"
   ],
   "metadata": {
    "collapsed": false,
    "pycharm": {
     "name": "#%%\n"
    }
   }
  },
  {
   "cell_type": "code",
   "execution_count": null,
   "outputs": [],
   "source": [],
   "metadata": {
    "collapsed": false,
    "pycharm": {
     "name": "#%%\n"
    }
   }
  },
  {
   "cell_type": "code",
   "execution_count": null,
   "outputs": [],
   "source": [],
   "metadata": {
    "collapsed": false,
    "pycharm": {
     "name": "#%%\n"
    }
   }
  }
 ],
 "metadata": {
  "kernelspec": {
   "display_name": "Python 3",
   "language": "python",
   "name": "python3"
  },
  "language_info": {
   "codemirror_mode": {
    "name": "ipython",
    "version": 2
   },
   "file_extension": ".py",
   "mimetype": "text/x-python",
   "name": "python",
   "nbconvert_exporter": "python",
   "pygments_lexer": "ipython2",
   "version": "2.7.6"
  }
 },
 "nbformat": 4,
 "nbformat_minor": 0
}